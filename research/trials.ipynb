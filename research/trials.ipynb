{
 "cells": [
  {
   "cell_type": "code",
   "execution_count": 1,
   "id": "c225db98",
   "metadata": {},
   "outputs": [],
   "source": [
    "from box import ConfigBox"
   ]
  },
  {
   "cell_type": "code",
   "execution_count": 2,
   "id": "02b165bd",
   "metadata": {},
   "outputs": [],
   "source": [
    "import gdown"
   ]
  },
  {
   "cell_type": "code",
   "execution_count": 3,
   "id": "b4070f6f",
   "metadata": {},
   "outputs": [],
   "source": [
    "url=\"https://drive.google.com/file/d/1Yb8UeFjzjBZAV6SxbyjfP5fOJKlcZ5vB/view?usp=sharing\""
   ]
  },
  {
   "cell_type": "code",
   "execution_count": 4,
   "id": "5c17715c",
   "metadata": {},
   "outputs": [],
   "source": [
    "file_id = url.split('/')[-2]"
   ]
  },
  {
   "cell_type": "code",
   "execution_count": 5,
   "id": "0f4e402c",
   "metadata": {},
   "outputs": [
    {
     "data": {
      "text/plain": [
       "'1Yb8UeFjzjBZAV6SxbyjfP5fOJKlcZ5vB'"
      ]
     },
     "execution_count": 5,
     "metadata": {},
     "output_type": "execute_result"
    }
   ],
   "source": [
    "file_id"
   ]
  },
  {
   "cell_type": "code",
   "execution_count": 5,
   "id": "7a4e8ffc",
   "metadata": {},
   "outputs": [
    {
     "name": "stderr",
     "output_type": "stream",
     "text": [
      "Downloading...\n",
      "From (original): https://drive.google.com/uc?export=download&id=1Yb8UeFjzjBZAV6SxbyjfP5fOJKlcZ5vB\n",
      "From (redirected): https://drive.google.com/uc?export=download&id=1Yb8UeFjzjBZAV6SxbyjfP5fOJKlcZ5vB&confirm=t&uuid=31dc0506-10f9-46ce-a15f-67f8a489f5d2\n",
      "To: c:\\Users\\anssa\\OneDrive\\Documents\\Kidney_Disease_Classification_DL\\research\\Kidney_CT_Scan_data.zip\n",
      "100%|██████████| 1.63G/1.63G [07:49<00:00, 3.47MB/s]\n"
     ]
    },
    {
     "data": {
      "text/plain": [
       "'Kidney_CT_Scan_data.zip'"
      ]
     },
     "execution_count": 5,
     "metadata": {},
     "output_type": "execute_result"
    }
   ],
   "source": [
    "prefix = 'https://drive.google.com/uc?export=download&id='\n",
    "gdown.download(prefix+file_id, \"Kidney_CT_Scan_data.zip\")"
   ]
  }
 ],
 "metadata": {
  "kernelspec": {
   "display_name": ".venv",
   "language": "python",
   "name": "python3"
  },
  "language_info": {
   "codemirror_mode": {
    "name": "ipython",
    "version": 3
   },
   "file_extension": ".py",
   "mimetype": "text/x-python",
   "name": "python",
   "nbconvert_exporter": "python",
   "pygments_lexer": "ipython3",
   "version": "3.11.9"
  }
 },
 "nbformat": 4,
 "nbformat_minor": 5
}
